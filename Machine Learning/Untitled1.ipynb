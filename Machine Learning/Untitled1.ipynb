{
 "cells": [
  {
   "cell_type": "code",
   "execution_count": null,
   "metadata": {},
   "outputs": [],
   "source": [
    "x=int(input())\n",
    "amt=120.0\n",
    "if x%5 == 0 and x<amt :\n",
    "    amt=amt-x-.50\n",
    "    print('{}0'.format(amt))\n",
    "elif x%5 != 0:\n",
    "    amt=amt+0\n",
    "    print('{}0'.format(amt))\n",
    "else:\n",
    "    print('{}0'.format(amt))\n",
    "    \n"
   ]
  }
 ],
 "metadata": {
  "kernelspec": {
   "display_name": "Python 3",
   "language": "python",
   "name": "python3"
  },
  "language_info": {
   "codemirror_mode": {
    "name": "ipython",
    "version": 3
   },
   "file_extension": ".py",
   "mimetype": "text/x-python",
   "name": "python",
   "nbconvert_exporter": "python",
   "pygments_lexer": "ipython3",
   "version": "3.8.5"
  }
 },
 "nbformat": 4,
 "nbformat_minor": 4
}
