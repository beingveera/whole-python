{
 "cells": [
  {
   "cell_type": "code",
   "execution_count": null,
   "metadata": {},
   "outputs": [],
   "source": []
  },
  {
   "cell_type": "code",
   "execution_count": 27,
   "metadata": {},
   "outputs": [
    {
     "name": "stdout",
     "output_type": "stream",
     "text": [
      "Send Successfully...\n"
     ]
    },
    {
     "data": {
      "text/plain": [
       "(221, b'2.0.0 closing connection a20sm7307961pfo.104 - gsmtp')"
      ]
     },
     "execution_count": 27,
     "metadata": {},
     "output_type": "execute_result"
    }
   ],
   "source": [
    "import smtplib as s\n",
    "ob=s.SMTP('smtp.gmail.com',587)\n",
    "ob.starttls()\n",
    "\n",
    "ob.login('veerasharma0000@gmail.com','Lokesh@9895')\n",
    "sub='its me lokesh'\n",
    "body='lokesh sharma from udaipur'\n",
    "mess=\"Subject :  {}\\n\\n{}\".format(sub,body)\n",
    "ob.sendmail('veerasharma0000@gmail.com','veerasharma9895@gmail.com',mess)\n",
    "print('Send Successfully...')\n",
    "ob.quit()"
   ]
  }
 ],
 "metadata": {
  "kernelspec": {
   "display_name": "Python 3",
   "language": "python",
   "name": "python3"
  },
  "language_info": {
   "codemirror_mode": {
    "name": "ipython",
    "version": 3
   },
   "file_extension": ".py",
   "mimetype": "text/x-python",
   "name": "python",
   "nbconvert_exporter": "python",
   "pygments_lexer": "ipython3",
   "version": "3.8.5"
  }
 },
 "nbformat": 4,
 "nbformat_minor": 4
}
