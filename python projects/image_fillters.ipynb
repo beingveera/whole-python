{
 "cells": [
  {
   "cell_type": "code",
   "execution_count": null,
   "metadata": {},
   "outputs": [],
   "source": [
    "import cv2\n",
    "img=cv2.imread('car.jpg',0)\n",
    "bil=cv2.bilateralFilter(img, 11, 17, 17)\n",
    "edge=cv2.Canny(img,170,200)\n",
    "\n",
    "(cnts,_) = cv2.findContours(edge.copy(), cv2.RETR_LIST, cv2.CHAIN_APPROX_SIMPLE,None)\n",
    "cnts=sorted(cnts, key = cv2.contourArea, reverse = True)[:50] \n",
    "NumberPlateCnt = None\n",
    "\n",
    "count = 0\n",
    "for c in cnts:\n",
    "        peri = cv2.arcLength(c, True)\n",
    "        approx = cv2.approxPolyDP(c, 0.02 * peri, True)\n",
    "        if len(approx) == 4:  \n",
    "            NumberPlateCnt = approx\n",
    "            break\n",
    "\n",
    "cv2.drawContours(img, [NumberPlateCnt], -1, (200,200,100), 3)\n",
    "cv2.imshow(\"Number Plate Detected\", img)\n",
    "\n",
    "\n",
    "\n",
    "\n",
    "cv2.imshow(\"image\",bil)\n",
    "cv2.imshow('edge',edge)\n",
    "\n",
    "cv2.waitKey()"
   ]
  }
 ],
 "metadata": {
  "kernelspec": {
   "display_name": "Python 3",
   "language": "python",
   "name": "python3"
  },
  "language_info": {
   "codemirror_mode": {
    "name": "ipython",
    "version": 3
   },
   "file_extension": ".py",
   "mimetype": "text/x-python",
   "name": "python",
   "nbconvert_exporter": "python",
   "pygments_lexer": "ipython3",
   "version": "3.8.5"
  }
 },
 "nbformat": 4,
 "nbformat_minor": 4
}
