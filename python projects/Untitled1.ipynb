{
 "cells": [
  {
   "cell_type": "code",
   "execution_count": 1,
   "metadata": {},
   "outputs": [
    {
     "ename": "FileNotFoundError",
     "evalue": "[Errno 2] No such file or directory: 'car.jpg'",
     "output_type": "error",
     "traceback": [
      "\u001b[1;31m---------------------------------------------------------------------------\u001b[0m",
      "\u001b[1;31mFileNotFoundError\u001b[0m                         Traceback (most recent call last)",
      "\u001b[1;32m<ipython-input-1-010f9bc090b8>\u001b[0m in \u001b[0;36m<module>\u001b[1;34m\u001b[0m\n\u001b[0;32m     20\u001b[0m \u001b[1;33m\u001b[0m\u001b[0m\n\u001b[0;32m     21\u001b[0m \u001b[0mfilename\u001b[0m\u001b[1;33m=\u001b[0m\u001b[1;34m'car.jpg'\u001b[0m\u001b[1;33m\u001b[0m\u001b[1;33m\u001b[0m\u001b[0m\n\u001b[1;32m---> 22\u001b[1;33m \u001b[0mattachment\u001b[0m  \u001b[1;33m=\u001b[0m\u001b[0mopen\u001b[0m\u001b[1;33m(\u001b[0m\u001b[0mfilename\u001b[0m\u001b[1;33m,\u001b[0m\u001b[1;34m'rb'\u001b[0m\u001b[1;33m)\u001b[0m\u001b[1;33m\u001b[0m\u001b[1;33m\u001b[0m\u001b[0m\n\u001b[0m\u001b[0;32m     23\u001b[0m \u001b[1;33m\u001b[0m\u001b[0m\n\u001b[0;32m     24\u001b[0m \u001b[0mpart\u001b[0m \u001b[1;33m=\u001b[0m \u001b[0mMIMEBase\u001b[0m\u001b[1;33m(\u001b[0m\u001b[1;34m'application'\u001b[0m\u001b[1;33m,\u001b[0m\u001b[1;34m'octet-stream'\u001b[0m\u001b[1;33m)\u001b[0m\u001b[1;33m\u001b[0m\u001b[1;33m\u001b[0m\u001b[0m\n",
      "\u001b[1;31mFileNotFoundError\u001b[0m: [Errno 2] No such file or directory: 'car.jpg'"
     ]
    }
   ],
   "source": [
    "import smtplib\n",
    "from email.mime.text import MIMEText\n",
    "from email.mime.multipart import MIMEMultipart\n",
    "from email.mime.base import MIMEBase\n",
    "from email import encoders\n",
    "\n",
    "email_user = 'veerasharma0000@gmail.com'\n",
    "email_password = 'Lokesh@9895'\n",
    "email_send = 'veerasharma9895@gmail.com'\n",
    "\n",
    "subject = 'its just for practise'\n",
    "\n",
    "msg = MIMEMultipart()\n",
    "msg['From'] = email_user\n",
    "msg['To'] = email_send\n",
    "msg['Subject'] = subject\n",
    "\n",
    "body = 'Hi there, sending this email from Python!'\n",
    "msg.attach(MIMEText(body,'plain'))\n",
    "\n",
    "filename=C:\\Users\\techno\\Desktop\\it_logo.png'\n",
    "attachment  =open(filename,'rb')\n",
    "\n",
    "part = MIMEBase('application','octet-stream')\n",
    "part.set_payload((attachment).read())\n",
    "encoders.encode_base64(part)\n",
    "part.add_header('Content-Disposition',\"attachment; filename= \"+filename)\n",
    "\n",
    "msg.attach(part)\n",
    "text = msg.as_string()\n",
    "server = smtplib.SMTP('smtp.gmail.com',587)\n",
    "server.starttls()\n",
    "server.login(email_user,email_password)\n",
    "\n",
    "\n",
    "server.sendmail(email_user,email_send,text)\n",
    "server.quit()"
   ]
  }
 ],
 "metadata": {
  "kernelspec": {
   "display_name": "Python 3",
   "language": "python",
   "name": "python3"
  }
 },
 "nbformat": 4,
 "nbformat_minor": 4
}
