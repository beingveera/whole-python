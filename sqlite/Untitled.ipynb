{
 "cells": [
  {
   "cell_type": "code",
   "execution_count": 5,
   "metadata": {},
   "outputs": [],
   "source": [
    "import cv2 \n",
    "import numpy as np\n",
    "import pyautogui as py\n",
    "import imutils"
   ]
  },
  {
   "cell_type": "code",
   "execution_count": null,
   "metadata": {},
   "outputs": [],
   "source": [
    "def press(key):\n",
    "    py.press(key)\n",
    "\n",
    "cap=cv2.VideoCapture(0)\n",
    "\n",
    "while True:\n",
    "    _,frame=cap.read()\n",
    "    frame=cv2.flip(frame,1)\n",
    "    frame=imutils.resize(frame,height=700,width=900)\n",
    "    hsv=cv2.cvtColor(frame,cv2.COLOR_BGR2HSV)\n",
    "    \n",
    "    lowred=np.array([131,90,106])\n",
    "    highred=np.array([255,255,255])\n",
    "    \n",
    "    lowblue=np.array([40,150,166])\n",
    "    highblue=np.array([255,255,255])\n",
    "    \n",
    "    red_mask=cv2.inRange(hsv,lowred,highred)\n",
    "    blue_mask=cv2.inRange(hsv,lowblue,highblue)\n",
    "    \n",
    "    cv2.rectangle(frame,(0,0),(200,150),(255,0,0),1)\n",
    "    \n",
    "    \n",
    "    contours,hierachy=cv2.findContours(red_mask,cv2.RETR_TREE,cv2.CHAIN_APPROX_SIMPLE)\n",
    "    contours=sorted(contours,key=lambda x: cv2.contourArea(x),reverse=True)\n",
    "    \n",
    "    for cnt in contours:\n",
    "        (x,y,w,h)=cv2.boundingRect(cnt)\n",
    "        cv2.rectangle(frame,(x,y),(x+w,y+h),(0,255,0),2)\n",
    "        print(x,y)\n",
    "        break\n",
    "        \n",
    "    contours,hierachy=cv2.findContours(blue_mask,cv2.RETR_TREE,cv2.CHAIN_APPROX_SIMPLE)\n",
    "    contours=sorted(contours,key=lambda x: cv2.contourArea(x),reverse=True)\n",
    "    \n",
    "    for cnt in contours:\n",
    "        (x,y,w,h)=cv2.boundingRect(cnt)\n",
    "        cv2.rectangle(frame,(x,y),(x+w,y+h),(0,255,0),2)\n",
    "        print(x,y)\n",
    "        break\n",
    "        \n",
    "    cv2.imshow('frame',frame)\n",
    "    key=cv2.waitKey(1)\n",
    "    if key ==27:\n",
    "        break\n",
    "cap.release()\n",
    "cv2.destoryAllWindows()\n",
    "    \n",
    "    \n"
   ]
  }
 ],
 "metadata": {
  "kernelspec": {
   "display_name": "Python 3",
   "language": "python",
   "name": "python3"
  },
  "language_info": {
   "codemirror_mode": {
    "name": "ipython",
    "version": 3
   },
   "file_extension": ".py",
   "mimetype": "text/x-python",
   "name": "python",
   "nbconvert_exporter": "python",
   "pygments_lexer": "ipython3",
   "version": "3.8.5"
  }
 },
 "nbformat": 4,
 "nbformat_minor": 4
}
